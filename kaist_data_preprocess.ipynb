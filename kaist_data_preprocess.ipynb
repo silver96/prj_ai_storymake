{
  "nbformat": 4,
  "nbformat_minor": 0,
  "metadata": {
    "colab": {
      "name": "kaist_data_preprocess.ipynb",
      "provenance": [],
      "authorship_tag": "ABX9TyNSztIMg6eV0GDtvBZMSKLi"
    },
    "kernelspec": {
      "name": "python3",
      "display_name": "Python 3"
    },
    "language_info": {
      "name": "python"
    }
  },
  "cells": [
    {
      "cell_type": "code",
      "metadata": {
        "id": "JiZ25PTAc8Yj"
      },
      "source": [
        "#데이터 전처리 코드 - 한글만 추출해놓은 상태\n",
        "import pandas as pd\n",
        "import csv\n",
        "import sys\n",
        "import re\n",
        "import datetime as dt\n",
        "\n",
        "file_path = '/content/merged_clean.txt'\n",
        "df = open(file_path, mode='r', encoding='utf-8')\n",
        "data = df.read()   #파일 읽기\n",
        "data = data.split('\\n\\n\\n')\n",
        "\n",
        "endata = []\n",
        "\n",
        "for da in data[100]:\n",
        "  if len(da) > 2:\n",
        "    da = da.split('\\n')[1:]\n",
        "    endata.append(da)\n",
        "    print(da)\n",
        "\n",
        "str_prompt = []\n",
        "str_completion = []\n",
        "list_story = []\n",
        "sen_prompt = []\n",
        "sen_completion = []\n",
        "\n",
        "for d in data:\n",
        "  d = re.compile('[^a-zA-Z.!\"?\\' ]').sub('', d)\n",
        "  \n",
        "  #어절 단위 끊기\n",
        "  str_data = d.split() \n",
        "  for k in range(len(str_data)-3):\n",
        "    if k % 9 == 0: \n",
        "      prompt = str_data[k:k+3]\n",
        "      comple = str_data[k+3:k+9]\n",
        "      prompt = \" \".join(prompt)\n",
        "      comple = \" \".join(comple)\n",
        "      if len(prompt) > 3 and len(comple) > 3:\n",
        "        str_prompt.append(prompt)\n",
        "        str_completion.append(comple)\n",
        "\n",
        "  #문장단위 끊기\n",
        "  d = d.replace('?','?+')\n",
        "  d = d.replace('.','.+')\n",
        "  d = d.replace('!','!+')\n",
        "  sen_data = d.split('+')\n",
        "  for j in range(len(sen_data)):\n",
        "    try:\n",
        "        prompt = sen_data[j:j+1]\n",
        "        prompt = \" \".join(prompt)\n",
        "        comple = sen_data[j+1:j+3]\n",
        "        comple = \" \".join(comple)\n",
        "        if len(prompt) > 3 and len(comple) > 3:\n",
        "            sen_prompt.append(prompt)\n",
        "            sen_completion.append(comple)\n",
        "    except:\n",
        "        continue\n",
        "\n",
        "\n",
        "prompt = str_prompt + sen_prompt\n",
        "completion = str_completion + sen_completion\n",
        "\n",
        "ldata = {'prompt': prompt, 'completion': completion}\n",
        "df = pd.DataFrame(ldata, columns=['prompt', 'completion'])\n",
        "df.to_csv(f'{dt.date.today()}_eng_story_pre_2.csv', encoding='utf-8-sig')\n"
      ],
      "execution_count": null,
      "outputs": []
    },
    {
      "cell_type": "markdown",
      "metadata": {
        "id": "D7CQPtRAEtS0"
      },
      "source": [
        "#카이스트 오디오"
      ]
    },
    {
      "cell_type": "code",
      "metadata": {
        "colab": {
          "base_uri": "https://localhost:8080/"
        },
        "id": "mZyqtKEyekFe",
        "outputId": "d0720d87-580d-4363-cf7b-f6a9ef28278f"
      },
      "source": [
        "import pandas as pd\n",
        "kaist_file = pd.read_excel('/content/scripts.xlsx', sheet_name='동화1')\n",
        "kaist_file.info()"
      ],
      "execution_count": null,
      "outputs": [
        {
          "output_type": "stream",
          "text": [
            "<class 'pandas.core.frame.DataFrame'>\n",
            "RangeIndex: 2376 entries, 0 to 2375\n",
            "Data columns (total 2 columns):\n",
            " #   Column  Non-Null Count  Dtype \n",
            "---  ------  --------------  ----- \n",
            " 0   Index   2376 non-null   int64 \n",
            " 1   대사      2376 non-null   object\n",
            "dtypes: int64(1), object(1)\n",
            "memory usage: 37.2+ KB\n"
          ],
          "name": "stdout"
        }
      ]
    },
    {
      "cell_type": "code",
      "metadata": {
        "id": "i0dz43aGlyzB"
      },
      "source": [
        "number = [2, 88, 191, 231, 310, 360, 456, 503, 568, 632, 667, 738, 789, 843, 901, 951, 995, 1049,\n",
        "1092, 1151, 1208, 1310, 1387, 1436, 1490, 1608, 1712, 1781, 1884, 1948, 2024, 2094,\n",
        "2155, 2196, 2252, 2330, 2377]"
      ],
      "execution_count": null,
      "outputs": []
    },
    {
      "cell_type": "code",
      "metadata": {
        "colab": {
          "base_uri": "https://localhost:8080/"
        },
        "id": "O0pLRKzo8_9-",
        "outputId": "222c2902-8f5b-42a0-ba55-0e5c0b41d35c"
      },
      "source": [
        "number[0]"
      ],
      "execution_count": null,
      "outputs": [
        {
          "output_type": "execute_result",
          "data": {
            "text/plain": [
              "2"
            ]
          },
          "metadata": {
            "tags": []
          },
          "execution_count": 17
        }
      ]
    },
    {
      "cell_type": "code",
      "metadata": {
        "id": "HrX3bMEY9R00"
      },
      "source": [
        "kaist_story2 = open('kaist_story2.txt', 'w', encoding='utf-8-sig')"
      ],
      "execution_count": null,
      "outputs": []
    },
    {
      "cell_type": "code",
      "metadata": {
        "id": "Xa02J9Kh8cbf"
      },
      "source": [
        "for i in range(len(number)-1):\n",
        "  if i != len(number)-1:\n",
        "    print(number[i])\n",
        "    story = kaist_file.iloc[number[i]-1:number[i+1]-2, 1]\n",
        "    story = ' '.join(story)\n",
        "    #story = kaist_file.iloc[100:120, 1]\n",
        "    kaist_story.write(story + '////////////'*3 )\n",
        "  else:\n",
        "    pass  "
      ],
      "execution_count": null,
      "outputs": []
    },
    {
      "cell_type": "code",
      "metadata": {
        "colab": {
          "base_uri": "https://localhost:8080/"
        },
        "id": "1a0uIWuhBG-b",
        "outputId": "a42ee7b7-ad91-49e9-cc37-928f7e231aed"
      },
      "source": [
        "print(type(kaist_story))"
      ],
      "execution_count": null,
      "outputs": [
        {
          "output_type": "stream",
          "text": [
            "<class 'list'>\n"
          ],
          "name": "stdout"
        }
      ]
    },
    {
      "cell_type": "code",
      "metadata": {
        "id": "f28a8uIwAKY0"
      },
      "source": [
        "kaist_story"
      ],
      "execution_count": null,
      "outputs": []
    },
    {
      "cell_type": "code",
      "metadata": {
        "id": "fDDwEqGaCk0S"
      },
      "source": [
        "!pip install konlpy"
      ],
      "execution_count": null,
      "outputs": []
    },
    {
      "cell_type": "markdown",
      "metadata": {
        "id": "4V1rS6zFI34e"
      },
      "source": [
        "#카이스트 2"
      ]
    },
    {
      "cell_type": "code",
      "metadata": {
        "id": "sL1qW4ITI5qv"
      },
      "source": [
        "kaist_story = open('kaist_story.txt', 'w', encoding='utf-8-sig')"
      ],
      "execution_count": null,
      "outputs": []
    },
    {
      "cell_type": "code",
      "metadata": {
        "id": "IgoJ-CeKJImm"
      },
      "source": [
        "\n",
        "def kaist(name, k):\n",
        "  import pandas as pd\n",
        "  kaist_file2 = pd.read_excel('/content/scripts.xlsx', sheet_name=name)\n",
        "  kaist_file2.info()\n",
        "\n",
        "  name_comple = list()\n",
        "  name_prompt = list()\n",
        "\n",
        "  for i in range(len(kaist_file2)-1):\n",
        "    if i != len(kaist_file2)-1:\n",
        "      prompt = kaist_file2.iloc[i:i+1, k]\n",
        "      comple = kaist_file2.iloc[i+1:i+3, k]\n",
        "      prompt = ' '.join(prompt)\n",
        "      comple = ' '.join(comple)\n",
        "      name_comple.append(prompt)\n",
        "      name_prompt.append(comple)\n",
        "    else:\n",
        "      pass  \n",
        "\n",
        "  return name_comple, name_prompt    \n"
      ],
      "execution_count": null,
      "outputs": []
    },
    {
      "cell_type": "code",
      "metadata": {
        "id": "9GDae9SZK091"
      },
      "source": [
        "import pandas as pd\n",
        "\n",
        "kaist_comple = []\n",
        "kaist_prompt = []    \n"
      ],
      "execution_count": null,
      "outputs": []
    },
    {
      "cell_type": "code",
      "metadata": {
        "colab": {
          "base_uri": "https://localhost:8080/"
        },
        "id": "77fXDl6_VFsF",
        "outputId": "41e9df6d-51b8-42bb-e797-f361156c430d"
      },
      "source": [
        "len(kaist_comple)"
      ],
      "execution_count": null,
      "outputs": [
        {
          "output_type": "execute_result",
          "data": {
            "text/plain": [
              "0"
            ]
          },
          "metadata": {
            "tags": []
          },
          "execution_count": 157
        }
      ]
    },
    {
      "cell_type": "code",
      "metadata": {
        "id": "QQ_TXyklTpJO"
      },
      "source": [
        "kaist_file_2 = pd.read_excel('/content/scripts.xlsx', sheet_name='동화2')\n",
        "\n",
        "for i in range(len(kaist_file2)-1):\n",
        "  if i < len(kaist_file2)-4:\n",
        "    prompt = kaist_file2.iloc[i:i+1, 2]\n",
        "    comple = kaist_file2.iloc[i+1:i+3, 2]\n",
        "    prompt = ' '.join(prompt)\n",
        "    comple = ' '.join(comple)\n",
        "    kaist_comple.append(prompt)\n",
        "    kaist_prompt.append(comple)\n",
        "  else:\n",
        "    pass"
      ],
      "execution_count": null,
      "outputs": []
    },
    {
      "cell_type": "code",
      "metadata": {
        "colab": {
          "base_uri": "https://localhost:8080/"
        },
        "id": "lRgHFobyVKM6",
        "outputId": "288c22ee-f647-4555-f733-0ebef785d5fc"
      },
      "source": [
        "print(len(kaist_comple))\n",
        "print(kaist_comple[:5])"
      ],
      "execution_count": null,
      "outputs": [
        {
          "output_type": "stream",
          "text": [
            "2180\n",
            "['채령아, 이게 다 뭐야?', '일을 마치고 집으로 돌아온 엄마 아빠가 깜짝 놀라 눈이 휘둥그래져 물었어요.', '거실 한가운데에는 여행 가방이며 옷, 수건, 칫솔, 치약, 비누, 샴푸와 린스,', '그리고 스케치북과 크레파스, 그것도 모자라 아빠가 아끼는 카메라까지 널브러져 있었거든요.', '엄마 아빠가 바쁘신 것 같아 제가 이번 여행에 필요한 준비물을 챙기고 있어요.']\n"
          ],
          "name": "stdout"
        }
      ]
    },
    {
      "cell_type": "code",
      "metadata": {
        "id": "fCeWrNryTuMl"
      },
      "source": [
        "kaist_file_2 = pd.read_excel('/content/scripts.xlsx', sheet_name='소설1')\n",
        "\n",
        "for i in range(len(kaist_file2)-1):\n",
        "  if i < len(kaist_file2)-4:\n",
        "    prompt = kaist_file2.iloc[i:i+1, 2]\n",
        "    comple = kaist_file2.iloc[i+1:i+3, 2]\n",
        "    prompt = ' '.join(prompt)\n",
        "    comple = ' '.join(comple)\n",
        "    kaist_comple.append(prompt)\n",
        "    kaist_prompt.append(comple)\n",
        "  else:\n",
        "    pass"
      ],
      "execution_count": null,
      "outputs": []
    },
    {
      "cell_type": "code",
      "metadata": {
        "colab": {
          "base_uri": "https://localhost:8080/"
        },
        "id": "zUctbXpTVLb7",
        "outputId": "c8cdd6e7-82c8-45a9-f771-869ade56ac16"
      },
      "source": [
        "kaist_comple[3000:3005]"
      ],
      "execution_count": null,
      "outputs": [
        {
          "output_type": "execute_result",
          "data": {
            "text/plain": [
              "['쉥커가 타이온과 진이 숨어 있는 곳으로 성큼성큼 걸어 왔어요.',\n",
              " '지금은 안 돼…',\n",
              " '타이온이 아무도 들리지 않게 혼잣말을 했어요.',\n",
              " '쉥커의 뒤를 밟아 닥터부의 은신처를 찾아내야 하는데 벌써 들킬 수는 없었어요.',\n",
              " '타이온과 진이 숨어 있는 곳으로 온 쉥커가 발걸음을 멈췄어요.']"
            ]
          },
          "metadata": {
            "tags": []
          },
          "execution_count": 170
        }
      ]
    },
    {
      "cell_type": "code",
      "metadata": {
        "id": "J9M-m_mOTx38"
      },
      "source": [
        "kaist_file_2 = pd.read_excel('/content/scripts.xlsx', sheet_name='소설2')\n",
        "\n",
        "for i in range(len(kaist_file2)-1):\n",
        "  if i < len(kaist_file2)-4:\n",
        "    prompt = kaist_file2.iloc[i:i+1, 2]\n",
        "    comple = kaist_file2.iloc[i+1:i+3, 2]\n",
        "    prompt = ' '.join(prompt)\n",
        "    comple = ' '.join(comple)\n",
        "    kaist_comple.append(prompt)\n",
        "    kaist_prompt.append(comple)\n",
        "  else:\n",
        "    pass"
      ],
      "execution_count": null,
      "outputs": []
    },
    {
      "cell_type": "code",
      "metadata": {
        "colab": {
          "base_uri": "https://localhost:8080/"
        },
        "id": "Gc_M4-25VMfp",
        "outputId": "dd1ab428-a913-4370-fe6f-c51648660259"
      },
      "source": [
        "kaist_comple[6000:6002]"
      ],
      "execution_count": null,
      "outputs": [
        {
          "output_type": "execute_result",
          "data": {
            "text/plain": [
              "['그래야 지각 안 한다.', '엄마가 잘못 알고 계신 거 아니에요?']"
            ]
          },
          "metadata": {
            "tags": []
          },
          "execution_count": 173
        }
      ]
    },
    {
      "cell_type": "code",
      "metadata": {
        "id": "IZNLxi3yVvHM"
      },
      "source": [
        "kaist_comple[-100:]"
      ],
      "execution_count": null,
      "outputs": []
    },
    {
      "cell_type": "markdown",
      "metadata": {
        "id": "RbsyJKI8I1na"
      },
      "source": [
        "#합치기"
      ]
    },
    {
      "cell_type": "code",
      "metadata": {
        "colab": {
          "base_uri": "https://localhost:8080/"
        },
        "id": "7oqXtUArCTLZ",
        "outputId": "e61e0a30-350e-4f98-85e6-55026b5aef7e"
      },
      "source": [
        "import datetime as dt\n",
        "import csv\n",
        "import sys\n",
        "import re\n",
        "from konlpy.tag import Kkma, Komoran, Okt, Mecab\n",
        "import datetime as dt\n",
        "import pandas as pd\n",
        "import glob\n",
        "import os\n",
        "\n",
        "#파일들 concat\n",
        "filelist = glob.glob('./data/*.txt')\n",
        "\n",
        "with open('./data/total_story_0816.txt', 'w', encoding='utf-8-sig') as f:\n",
        "    for i in range(len(filelist)):\n",
        "        file_path = filelist[i]\n",
        "        with open(file_path, 'r', encoding='utf-8') as d:\n",
        "            print(d)\n",
        "            f.write(str(d.read()))\n",
        "            f.write('////////'*3 + '\\n')\n",
        "    print(f)\n",
        "    \n"
      ],
      "execution_count": null,
      "outputs": [
        {
          "output_type": "stream",
          "text": [
            "<_io.TextIOWrapper name='./data/total_0815.txt' mode='r' encoding='utf-8'>\n",
            "<_io.TextIOWrapper name='./data/kaist_story.txt' mode='r' encoding='utf-8'>\n",
            "<_io.TextIOWrapper name='./data/total_story_0816.txt' mode='w' encoding='utf-8-sig'>\n"
          ],
          "name": "stdout"
        }
      ]
    },
    {
      "cell_type": "code",
      "metadata": {
        "id": "z2YEsO4oEExT"
      },
      "source": [
        "file_path = './data/total_story_0816.txt'\n",
        "df = open(file_path, mode='r', encoding = 'utf-8-sig')\n",
        "data = df.read()   #파일 읽기\n",
        "# print(type(data))\n",
        "data_s = data.split('/////////')\n",
        "print(type(data_s))\n",
        "data_s = list(filter(None, data_s))\n",
        "\n",
        "str_prompt = []\n",
        "str_completion = []\n",
        "sen_prompt = []\n",
        "sen_completion = []\n",
        "\n",
        "for idx,d in enumerate(data_s):\n",
        "  d = re.compile('[^가-힣.!\"?\\' ]').sub('', d)\n",
        "  print(d)\n",
        "\n",
        "  #어절 단위 끊기\n",
        "  str_data = d.split() \n",
        "  for k in range(len(str_data)-3):\n",
        "    if k % 9 == 0: \n",
        "      prompt = str_data[k:k+3]\n",
        "      comple = str_data[k+3:k+9]\n",
        "      prompt = \" \".join(prompt)\n",
        "      comple = \" \".join(comple)\n",
        "      if len(prompt) > 3 and len(comple) > 3:\n",
        "        str_prompt.append(prompt)\n",
        "        str_completion.append(comple)\n",
        "\n",
        "  #문장단위 끊기\n",
        "  d = d.replace('?','?+')\n",
        "  d = d.replace('.','.+')\n",
        "  d = d.replace('!','!+')\n",
        "  sen_data = d.split('+')\n",
        "  for j in range(len(sen_data)):\n",
        "    try:\n",
        "        prompt = sen_data[j:j+1]\n",
        "        prompt = \" \".join(prompt)\n",
        "        comple = sen_data[j+1:j+3]\n",
        "        comple = \" \".join(comple)\n",
        "        if len(prompt) > 3 and len(comple) > 3:\n",
        "            sen_prompt.append(prompt)\n",
        "            sen_completion.append(comple)\n",
        "    except:\n",
        "        continue\n",
        "\n",
        "\n",
        "prompt = str_prompt + sen_prompt + kaist_prompt\n",
        "completion = str_completion + sen_completion + kaist_comple\n",
        "\n",
        "ldata = {'prompt': prompt, 'completion': completion}\n",
        "df = pd.DataFrame(ldata, columns=['prompt', 'completion'])\n",
        "df.to_csv(f'{dt.date.today()}_kor_story_kaist_all.csv', encoding='utf-8-sig')\n"
      ],
      "execution_count": null,
      "outputs": []
    }
  ]
}