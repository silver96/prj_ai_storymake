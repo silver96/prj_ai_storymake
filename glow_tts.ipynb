{
  "nbformat": 4,
  "nbformat_minor": 0,
  "metadata": {
    "accelerator": "GPU",
    "colab": {
      "name": "train-glowtts-v2.ipynb의 사본",
      "provenance": [],
      "collapsed_sections": [],
      "machine_shape": "hm"
    },
    "kernelspec": {
      "display_name": "Python 3",
      "name": "python3"
    }
  },
  "cells": [
    {
      "cell_type": "markdown",
      "metadata": {
        "id": "yIgz4PyCC9eY"
      },
      "source": [
        "# SCE-TTS: Glow-TTS 학습\n",
        "\n",
        "이 문서는 SCE-TTS 프로젝트의 Glow-TTS 학습용 문서입니다.\n",
        "\n",
        "이 데모에 대한 더 자세한 정보는 아래 링크에서 확인하실 수 있습니다.  \n",
        "https://sce-tts.github.io/\n",
        "\n",
        "실제 학습을 진행하시려면, 위쪽 메뉴에서 `런타임 -> 모두 실행`을 클릭하신 후,  \n",
        "문서 최하단의 `Glow-TTS 학습 진행`까지 정상적으로 실행되는걸 확인해주시면 됩니다.\n",
        "\n",
        "도중에 문제가 발생한다면, 문제의 원인을 해결한 후 `런타임 -> 런타임 초기화`를 클릭하고,  \n",
        "다시 `런타임 -> 모두 실행`을 클릭해주세요."
      ]
    },
    {
      "cell_type": "code",
      "metadata": {
        "id": "CdtD4yx4GtEg"
      },
      "source": [
        "출처: https://sce-tts.github.io/#/v2/train"
      ],
      "execution_count": null,
      "outputs": []
    },
    {
      "cell_type": "markdown",
      "metadata": {
        "id": "nMJBiJ6mECO1"
      },
      "source": [
        "## 1. 할당된 GPU 확인\n",
        "\n",
        "현재 런타임에 할당된 GPU를 확인합니다.\n",
        "\n",
        "만약, `GPU: NVIDIA-SMI has failed because it couldn't communicate with the NVIDIA driver. Make sure that the latest NVIDIA driver is installed and running.` 라는 메시지가 출력된다면, 위쪽 메뉴에서 `런타임 -> 런타임 유형 변경`을 클릭하고 하드웨어 가속기를 `GPU`로 변경하여 저장한 후 다시 실행해주세요."
      ]
    },
    {
      "cell_type": "code",
      "metadata": {
        "colab": {
          "base_uri": "https://localhost:8080/"
        },
        "id": "pHat88bRD4_e",
        "outputId": "82afc494-81c1-489a-ef39-ef53b8b7980d"
      },
      "source": [
        "import os\n",
        "GPU_NAME = os.popen('nvidia-smi --query-gpu=name --format=csv,noheader').read().strip()\n",
        "os.environ['GPU_NAME'] = GPU_NAME\n",
        "print(f'GPU: {GPU_NAME}')"
      ],
      "execution_count": null,
      "outputs": [
        {
          "name": "stdout",
          "output_type": "stream",
          "text": [
            "GPU: Tesla P100-PCIE-16GB\n"
          ]
        }
      ]
    },
    {
      "cell_type": "markdown",
      "metadata": {
        "id": "CEgknkRoDKj9"
      },
      "source": [
        "## 2. 구글 드라이브 마운트\n",
        "\n",
        "음성합성을 위해 학습한 모델이 있는 구글 드라이브를 마운트합니다.  \n",
        "마운트할 구글 드라이브 내에 다음 파일이 존재하는지 꼭 확인해주세요.\n",
        "\n",
        "- `/Colab Notebooks/data/filelists.zip`\n",
        "\n",
        "(존재하지 않는다면, [음성 데이터셋 변환](https://sce-tts.github.io/#/recoding?id=%EC%9D%8C%EC%84%B1-%EB%8D%B0%EC%9D%B4%ED%84%B0%EC%85%8B-%EB%B3%80%ED%99%98)문서를 참조하여 준비해주세요.)\n",
        "\n",
        "만약 아래에 `Enter your authorization code:`과 같은 메시지가 출력될 경우,  \n",
        "같이 출력된 링크에 접속하여, 마운트할 구글 계정을 선택하신 후, 인증 코드를 복사하여 입력해주세요."
      ]
    },
    {
      "cell_type": "code",
      "metadata": {
        "colab": {
          "background_save": true,
          "base_uri": "https://localhost:8080/"
        },
        "id": "4U2wrDOthrsF",
        "outputId": "9589676d-5066-4880-859d-0144ec5173fa"
      },
      "source": [
        "  from google.colab import drive\n",
        "drive.mount('/content/drive')"
      ],
      "execution_count": null,
      "outputs": [
        {
          "name": "stdout",
          "output_type": "stream",
          "text": [
            "Mounted at /content/drive\n"
          ]
        }
      ]
    },
    {
      "cell_type": "markdown",
      "metadata": {
        "id": "IxpzRw3SDvOL"
      },
      "source": [
        "## 3. 필수 라이브러리 및 함수 불러오기\n",
        "\n",
        "실행에 필요한 라이브러리 및 함수를 불러옵니다.\n",
        "\n",
        "이 과정은 약 10분 정도 소요될 수 있습니다."
      ]
    },
    {
      "cell_type": "code",
      "metadata": {
        "colab": {
          "background_save": true
        },
        "id": "jYCym6hXge2_"
      },
      "source": [
        "import sys\n",
        "from pathlib import Path"
      ],
      "execution_count": null,
      "outputs": []
    },
    {
      "cell_type": "code",
      "metadata": {
        "colab": {
          "background_save": true,
          "base_uri": "https://localhost:8080/"
        },
        "id": "JkWG-L13gReB",
        "outputId": "c7f4539c-cfe8-4ec8-f70c-4de09a47c95e"
      },
      "source": [
        "%cd /content\n",
        "!git clone --depth 1 https://github.com/sce-tts/TTS.git -b sce-tts\n",
        "%cd /content/TTS\n",
        "!pip install -q --no-cache-dir -e ."
      ],
      "execution_count": null,
      "outputs": [
        {
          "name": "stdout",
          "output_type": "stream",
          "text": [
            "/content\n",
            "Cloning into 'TTS'...\n",
            "remote: Enumerating objects: 447, done.\u001b[K\n",
            "remote: Counting objects: 100% (447/447), done.\u001b[K\n",
            "remote: Compressing objects: 100% (416/416), done.\u001b[K\n",
            "remote: Total 447 (delta 55), reused 247 (delta 19), pack-reused 0\u001b[K\n",
            "Receiving objects: 100% (447/447), 13.77 MiB | 32.19 MiB/s, done.\n",
            "Resolving deltas: 100% (55/55), done.\n",
            "/content/TTS\n",
            "  Installing build dependencies ... \u001b[?25l\u001b[?25hdone\n",
            "  Getting requirements to build wheel ... \u001b[?25l\u001b[?25hdone\n",
            "    Preparing wheel metadata ... \u001b[?25l\u001b[?25hdone\n",
            "\u001b[K     |████████████████████████████████| 183 kB 7.7 MB/s \n",
            "\u001b[K     |████████████████████████████████| 228 kB 89.7 MB/s \n",
            "\u001b[K     |████████████████████████████████| 69 kB 103.7 MB/s \n",
            "\u001b[K     |████████████████████████████████| 124 kB 101.2 MB/s \n",
            "\u001b[K     |████████████████████████████████| 1.3 MB 67.8 MB/s \n",
            "\u001b[K     |████████████████████████████████| 3.2 MB 65.9 MB/s \n",
            "\u001b[K     |████████████████████████████████| 71 kB 78.9 MB/s \n",
            "\u001b[?25h  Installing build dependencies ... \u001b[?25l\u001b[?25hdone\n",
            "  Getting requirements to build wheel ... \u001b[?25l\u001b[?25hdone\n",
            "  Installing backend dependencies ... \u001b[?25l\u001b[?25hdone\n",
            "    Preparing wheel metadata ... \u001b[?25l\u001b[?25hdone\n",
            "\u001b[K     |████████████████████████████████| 20.1 MB 62.1 MB/s \n",
            "\u001b[K     |████████████████████████████████| 25.3 MB 1.2 MB/s \n",
            "\u001b[?25h  Building wheel for librosa (setup.py) ... \u001b[?25l\u001b[?25hdone\n",
            "  Building wheel for umap-learn (setup.py) ... \u001b[?25l\u001b[?25hdone\n",
            "  Building wheel for coqpit (PEP 517) ... \u001b[?25l\u001b[?25hdone\n",
            "\u001b[31mERROR: pip's dependency resolver does not currently take into account all the packages that are installed. This behaviour is the source of the following dependency conflicts.\n",
            "tensorflow 2.5.0 requires numpy~=1.19.2, but you have numpy 1.18.5 which is incompatible.\n",
            "datascience 0.10.6 requires folium==0.2.1, but you have folium 0.8.3 which is incompatible.\n",
            "albumentations 0.1.12 requires imgaug<0.2.7,>=0.2.5, but you have imgaug 0.2.9 which is incompatible.\u001b[0m\n"
          ]
        }
      ]
    },
    {
      "cell_type": "markdown",
      "metadata": {
        "id": "iiXsxJtZERyP"
      },
      "source": [
        "## 4. 학습할 데이터셋 불러오기\n",
        "\n",
        "학습에 사용할 음성 데이터를 구글 드라이브에서 가져옵니다."
      ]
    },
    {
      "cell_type": "code",
      "metadata": {
        "colab": {
          "background_save": true
        },
        "id": "hExnC_2RhZ3m",
        "outputId": "eb34cfb3-dfc0-45e2-ce95-c60f41c9ed3b"
      },
      "source": [
        "%cd /content/TTS\n",
        "!cp \"/content/drive/My Drive/Colab Notebooks/data/filelists.zip\" ./filelists.zip\n",
        "!rm -rf ./filelists\n",
        "!unzip -q filelists.zip -d ./filelists"
      ],
      "execution_count": null,
      "outputs": [
        {
          "name": "stdout",
          "output_type": "stream",
          "text": [
            "/content/TTS\n"
          ]
        }
      ]
    },
    {
      "cell_type": "markdown",
      "metadata": {
        "id": "qD8zd4SMElbn"
      },
      "source": [
        "## 5. 사전 학습 데이터 불러오기\n",
        "\n",
        "사전 학습 데이터가 구글 드라이브에 존재하지 않을 경우,  \n",
        "SleepingCE Speech Dataset의 사전 학습 데이터를 내려받습니다."
      ]
    },
    {
      "cell_type": "code",
      "metadata": {
        "colab": {
          "background_save": true
        },
        "id": "MQxazTNayds-",
        "outputId": "4e7260f5-c0f8-4666-d0b1-ca1737ae3d36"
      },
      "source": [
        "%cd /content/TTS\n",
        "!mkdir -p \"/content/drive/My Drive/Colab Notebooks/data/glowtts-v2\"\n",
        "if not Path(\"/content/drive/My Drive/Colab Notebooks/data/glowtts-v2/config.json\").exists():\n",
        "    !gdown --id 1DMKLdfZ_gzc_z0qDod6_G8fEXj0zCHvC -O glowtts-v2.zip\n",
        "    !unzip -q glowtts-v2.zip -d ./\n",
        "    !cp -R ./glowtts-v2/* \"/content/drive/My Drive/Colab Notebooks/data/glowtts-v2/\""
      ],
      "execution_count": null,
      "outputs": [
        {
          "name": "stdout",
          "output_type": "stream",
          "text": [
            "/content/TTS\n"
          ]
        }
      ]
    },
    {
      "cell_type": "code",
      "metadata": {
        "colab": {
          "background_save": true
        },
        "id": "c73wfE5L7uK9",
        "outputId": "1f7da7bf-ebc8-48f0-a903-75a18bcda7d4"
      },
      "source": [
        "%cd /content/TTS\n",
        "if not Path(\"/content/drive/My Drive/Colab Notebooks/data/glowtts-v2/scale_stats_new.npy\").exists():\n",
        "    !python TTS/bin/compute_statistics.py \"/content/drive/My Drive/Colab Notebooks/data/glowtts-v2/config.json\" \"/content/drive/My Drive/Colab Notebooks/data/glowtts-v2/scale_stats_new.npy\" --data_path \"/content/TTS/filelists/wavs/\""
      ],
      "execution_count": null,
      "outputs": [
        {
          "name": "stdout",
          "output_type": "stream",
          "text": [
            "/content/TTS\n"
          ]
        }
      ]
    },
    {
      "cell_type": "code",
      "metadata": {
        "colab": {
          "background_save": true
        },
        "id": "Q6TCF3Pu-MnV"
      },
      "source": [
        "with open(\"/content/TTS/test_sentences.txt\", mode=\"w\") as f:\n",
        "    f.write(\"\"\"아래 문장들은 모델 학습을 위해 사용하지 않은 문장들입니다.\n",
        "서울특별시 특허허가과 허가과장 허과장.\n",
        "경찰청 철창살은 외철창살이고 검찰청 철창살은 쌍철창살이다.\n",
        "지향을 지양으로 오기하는 일을 지양하는 언어 습관을 지향해야 한다.\n",
        "그러니까 외계인이 우리 생각을 읽고 우리 생각을 우리가 다시 생각토록 해서 그 생각이 마치 우리가 생각한 것인 것처럼 속였다는 거냐?\"\"\")"
      ],
      "execution_count": null,
      "outputs": []
    },
    {
      "cell_type": "markdown",
      "metadata": {
        "id": "alQe2KpbE9di"
      },
      "source": [
        "## 6. TensorBoard 실행\n",
        "\n",
        "학습 진행을 확인하기 위해 TensorBoard를 실행합니다.\n",
        "\n",
        "최신 학습 진행 상황을 확인하려면 TensorBoard 우측 상단의 새로고침 아이콘을 클릭해주세요."
      ]
    },
    {
      "cell_type": "code",
      "metadata": {
        "colab": {
          "background_save": true
        },
        "id": "ydwAZhCQilzJ",
        "outputId": "8eef0885-6d8f-4285-df31-55f4c0f76b96"
      },
      "source": [
        "%load_ext tensorboard\n",
        "%tensorboard --logdir=\"/content/drive/My Drive/Colab Notebooks/data/glowtts-v2\""
      ],
      "execution_count": null,
      "outputs": [
        {
          "data": {
            "application/javascript": [
              "\n",
              "        (async () => {\n",
              "            const url = new URL(await google.colab.kernel.proxyPort(6006, {'cache': true}));\n",
              "            url.searchParams.set('tensorboardColab', 'true');\n",
              "            const iframe = document.createElement('iframe');\n",
              "            iframe.src = url;\n",
              "            iframe.setAttribute('width', '100%');\n",
              "            iframe.setAttribute('height', '800');\n",
              "            iframe.setAttribute('frameborder', 0);\n",
              "            document.body.appendChild(iframe);\n",
              "        })();\n",
              "    "
            ],
            "text/plain": [
              "<IPython.core.display.Javascript object>"
            ]
          },
          "metadata": {},
          "output_type": "display_data"
        }
      ]
    },
    {
      "cell_type": "markdown",
      "metadata": {
        "id": "32XUNFa-FQ-R"
      },
      "source": [
        "## 7. Glow-TTS 학습 진행\n",
        "\n",
        "실제 Glow-TTS 학습을 진행합니다.\n",
        "\n",
        "학습이 정상적으로 진행되면, 이 셀은 종료되지 않고 계속 실행되는 상태를 유지합니다.\n",
        "\n",
        "학습 진행 정도를 시각적으로 확인하시려면 바로 위의 TensorBoard를 참고해주세요.\n",
        "\n",
        "학습된 결과를 확인하고 싶으시다면, 가장 최근 체크포인트를 [SCE-TTS: 음성합성 데모](https://colab.research.google.com/drive/1YkxjzBz3V4eXoAaEgcFNEUg8ZyWV40x9)에서 불러와 확인할 수 있습니다.\n",
        "\n",
        "처음 학습을 수행할 때에는 아래 셀을 그대로 실행하면 됩니다.\n",
        "\n",
        "이전에 학습을 진행하던 모델을 이어서 학습을 진행하시려면 다음과 같이 수정한 후 실행해주세요.\n",
        "\n",
        "- 아래 셀에서 2 ~ 3번째 줄의 코드를 주석을 해제합니다.\n",
        "- 3번째 줄의 경로를 이어서 학습을 진행할 모델의 경로로 변경합니다.  \n",
        "(예시: `/content/drive/My Drive/Colab Notebooks/data/glowtts-v2/glowtts-v2-May-31-2021_08+17AM-d897f2e`)\n",
        "- 4번째 줄 아래의 코드를 제거합니다.\n"
      ]
    },
    {
      "cell_type": "code",
      "metadata": {
        "id": "9Yim0zgJk3cR"
      },
      "source": [
        "%cd /content/TTS\n",
        "!(python TTS/bin/train_glow_tts.py \\\n",
        "    --continue_path \"/content/drive/MyDrive/Colab Notebooks/data/glowtts-v2/glowtts-v2-August-10-2021_05+52AM-3aa165a\")\n",
        "# !(python TTS/bin/train_glow_tts.py \\\n",
        "#     --config_path \"/content/drive/My Drive/Colab Notebooks/data/glowtts-v2/config.json\" \\\n",
        "#     --coqpit.datasets.0.path \"/content/TTS/filelists\"  \\\n",
        "#     --coqpit.audio.stats_path \"/content/drive/My Drive/Colab Notebooks/data/glowtts-v2/scale_stats_new.npy\"  \\\n",
        "#     --coqpit.test_sentences_file \"/content/TTS/test_sentences.txt\"  \\\n",
        "#     --coqpit.output_path \"/content/drive/My Drive/Colab Notebooks/data/glowtts-v2/\"  \\\n",
        "#     --coqpit.num_loader_workers 2  \\\n",
        "#     --coqpit.num_val_loader_workers 2  \\\n",
        "#     --restore_path \"/content/drive/My Drive/Colab Notebooks/data/glowtts-v2/model_file.pth.tar\")"
      ],
      "execution_count": null,
      "outputs": []
    }
  ]
}