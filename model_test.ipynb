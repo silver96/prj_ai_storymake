{
  "nbformat": 4,
  "nbformat_minor": 0,
  "metadata": {
    "colab": {
      "name": "model_test.ipynb",
      "provenance": [],
      "collapsed_sections": []
    },
    "kernelspec": {
      "name": "python3",
      "display_name": "Python 3"
    },
    "language_info": {
      "name": "python"
    }
  },
  "cells": [
    {
      "cell_type": "code",
      "metadata": {
        "id": "YGYSSULO2PtZ"
      },
      "source": [
        "!pip install openai"
      ],
      "execution_count": null,
      "outputs": []
    },
    {
      "cell_type": "code",
      "metadata": {
        "id": "MjaE0o5F2WTZ"
      },
      "source": [
        "import json\n",
        "import openai"
      ],
      "execution_count": null,
      "outputs": []
    },
    {
      "cell_type": "code",
      "metadata": {
        "id": "MQEsfmJ82d1n"
      },
      "source": [
        "openai.api_key = \"open-api키 입력\"      # API 키 입력\n",
        "response = openai.Completion.create(engine=\"davinci\", prompt=\"This is a test\", max_tokens=5)"
      ],
      "execution_count": null,
      "outputs": []
    },
    {
      "cell_type": "code",
      "metadata": {
        "id": "NYszAtIw2tMc"
      },
      "source": [
        "print(response)     # 응답 확인"
      ],
      "execution_count": null,
      "outputs": []
    },
    {
      "cell_type": "code",
      "metadata": {
        "colab": {
          "base_uri": "https://localhost:8080/"
        },
        "id": "O-Kk80862u2t",
        "outputId": "fe51d396-fa85-4ea9-e71b-c68961abe622"
      },
      "source": [
        "!git clone https://github.com/shreyashankar/gpt3-sandbox.git"
      ],
      "execution_count": null,
      "outputs": [
        {
          "output_type": "stream",
          "text": [
            "Cloning into 'gpt3-sandbox'...\n",
            "remote: Enumerating objects: 2468, done.\u001b[K\n",
            "remote: Counting objects: 100% (64/64), done.\u001b[K\n",
            "remote: Compressing objects: 100% (63/63), done.\u001b[K\n",
            "remote: Total 2468 (delta 29), reused 6 (delta 1), pack-reused 2404\u001b[K\n",
            "Receiving objects: 100% (2468/2468), 5.47 MiB | 9.23 MiB/s, done.\n",
            "Resolving deltas: 100% (696/696), done.\n"
          ],
          "name": "stdout"
        }
      ]
    },
    {
      "cell_type": "code",
      "metadata": {
        "colab": {
          "base_uri": "https://localhost:8080/"
        },
        "id": "EDXLi-6r24Tc",
        "outputId": "9ac6c7e3-73eb-4bc7-fcfa-39178ff34463"
      },
      "source": [
        "cd gpt3-sandbox"
      ],
      "execution_count": null,
      "outputs": [
        {
          "output_type": "stream",
          "text": [
            "/content/gpt3-sandbox\n"
          ],
          "name": "stdout"
        }
      ]
    },
    {
      "cell_type": "code",
      "metadata": {
        "id": "7ADzIS00HErQ"
      },
      "source": [
        "!pip install -r api/requirements.txt"
      ],
      "execution_count": null,
      "outputs": []
    },
    {
      "cell_type": "code",
      "metadata": {
        "id": "KZ-22g4IHHBH"
      },
      "source": [
        "from api import GPT, Example, set_openai_key"
      ],
      "execution_count": null,
      "outputs": []
    },
    {
      "cell_type": "code",
      "metadata": {
        "id": "H0wRwGUzHSz8"
      },
      "source": [
        "openai.FineTune.list()      # 파인튜닝 모델 목록 확인"
      ],
      "execution_count": null,
      "outputs": []
    },
    {
      "cell_type": "markdown",
      "metadata": {
        "id": "udLIE_Brn14s"
      },
      "source": [
        "#Babbage Full"
      ]
    },
    {
      "cell_type": "code",
      "metadata": {
        "colab": {
          "base_uri": "https://localhost:8080/"
        },
        "id": "uZftUS90KIHs",
        "outputId": "804b96a8-868d-484a-b28e-ca9063f8af24"
      },
      "source": [
        "run = openai.Completion.create(\n",
        "  model=\"curie:ft-user-ycw9urjfe4reihz6rgwmz5ho-2021-08-09-05-09-51\",      # 원하는 모델명 입력\n",
        "  prompt=\"호랑이\",     # 원하는 텍스트 입력\n",
        "  temperature=0.5,      # 디폴트 1. 0에 가까울수록 정제된 문장, 높아질수록 창의적 문장\n",
        "  max_tokens=100,       # 최대 2048토큰까지\n",
        "  n = 5                 # 결과물 개수 (토큰 사용량과 연관이 큼)\n",
        ")\n",
        "\n",
        "output = [run.choices[0]['text'], run.choices[1]['text'], run.choices[2]['text'], run.choices[3]['text'], run.choices[4]['text']]\n",
        "print(output[0])\n",
        "print(output[1])\n",
        "print(output[2])\n",
        "print(output[3])\n",
        "print(output[4])"
      ],
      "execution_count": null,
      "outputs": [
        {
          "output_type": "stream",
          "text": [
            "는 멍석에 말린 호랑이를 번쩍 지고 재빨리 강물에 가득 담아 강물을 차려주었어요.\n",
            "는 어린 토끼가 자랑했답니다. \"히히히. 잘못했어요.\" 곰민이는 엄마 아빠에게 달려\n",
            " 할머니가 나를 연못으로 데려갔어요. \"연못아, 연못아. 내 연못이 아주 잘잤다. 어서 \n",
            "를 기다리고 있었죠. \"호랑아, 어디 있어?\" \"호랑아, 방안에 등불이 꺼져 팥죽을 줄 수\n",
            " 엉덩이를 푹 찔렀죠. \"으악\" 호랑이가 엉덩이를 섞어 가지를 내려놓았어요. 토끼\n"
          ],
          "name": "stdout"
        }
      ]
    },
    {
      "cell_type": "code",
      "metadata": {
        "colab": {
          "base_uri": "https://localhost:8080/"
        },
        "id": "CSQoQBx0aOKD",
        "outputId": "ae29b326-03a1-4326-bbec-51501af45388"
      },
      "source": [
        "run = openai.Completion.create(\n",
        "  model=\"curie:ft-user-ycw9urjfe4reihz6rgwmz5ho-2021-08-09-05-09-51\",      # 모델명 입력\n",
        "  prompt=output[1],     # 원하는 텍스트 입력\n",
        "  temperature=0.5,      # 디폴트 1. 0에 가까울수록 정제된 문장, 높아질수록 창의적 문장\n",
        "  max_tokens=100,       # 최대 2048토큰까지\n",
        "  n = 5                 # 결과물 개수 (토큰 사용량과 연관이 큼)\n",
        ")\n",
        "\n",
        "output = [run.choices[0]['text'], run.choices[1]['text'], run.choices[2]['text'], run.choices[3]['text'], run.choices[4]['text']]\n",
        "print(output[0])\n",
        "print(output[1])\n",
        "print(output[2])\n",
        "print(output[3])\n",
        "print(output[4])"
      ],
      "execution_count": null,
      "outputs": [
        {
          "output_type": "stream",
          "text": [
            "가 꼭 안겼어요. \"아유, 착해라. 우리 엄마가 겨울이 오면 깊은 잠을 자야 한다.\" 선생님의\n",
            "가 꼭 안겼어요. \"아이쿠, 이제 아무 말도 하지 않고 여기에 있는 걸로 나를 속였겠다.\n",
            "가 꼭 안겼어요. \"아유, 착해라. 내가 얼른 나무를 꽉 움켜잡으려고 했는데 너무 아\n",
            "가 꼭 안겼어요. \"어에서 늑대님. 저는요 나뭇잎 눈에서 반짝이는 거예요.\" 그 때 갑\n",
            "가 꼭 안겼어요. \"어머 그러네? 엄마 때문에 아무 일 없이 집을 나서버렸잖아.\" 곰민이\n"
          ],
          "name": "stdout"
        }
      ]
    },
    {
      "cell_type": "code",
      "metadata": {
        "colab": {
          "base_uri": "https://localhost:8080/"
        },
        "id": "Sxu4SxSqaTIY",
        "outputId": "e8ede865-5fdf-4c9e-cca6-6391e19c19da"
      },
      "source": [
        "run = openai.Completion.create(\n",
        "  model=\"babbage:ft-dajeongdagam-2021-07-27-10-31-54\",      # 모델명 입력\n",
        "  prompt=\"진료비\",     # 원하는 텍스트 입력\n",
        "  temperature=0.5,      # 디폴트 1. 0에 가까울수록 정제된 문장, 높아질수록 창의적 문장\n",
        "  max_tokens=500,       # 최대 2048토큰까지\n",
        "  n = 5                 # 결과물 개수 (토큰 사용량과 연관이 큼)\n",
        ")\n",
        "\n",
        "output = [run.choices[0]['text'], run.choices[1]['text'], run.choices[2]['text'], run.choices[3]['text'], run.choices[4]['text']]\n",
        "print(output[0])\n",
        "print(output[1])\n",
        "print(output[2])\n",
        "print(output[3])\n",
        "print(output[4])"
      ],
      "execution_count": null,
      "outputs": [
        {
          "output_type": "stream",
          "text": [
            "도 저렴하구요. 다만 대기시간이 좀 길었어요. 사람이 많아서 그런것같기도 하구요. 병원은 전체적으로 깔끔한 느낌이라 좋았어요. 직원분들도 친절하시구요. 대기시간이 길었던게 흠이라면 그건 좀 불만이였어요. 병원이 위치한 건물은 조금 오래되어 보였지만 병원 내부는 엄청 깔끔해요. 의사선생님도 친절하시고 설명도 잘 해주셨어요. 그런데 사람이 많아서 대기시간이 길었던게 흠이긴 흠이네요. 재방문의사 있어요.\n",
            "는 만원 이상 나온다고 하네요. 이후 도수치료를 받고 있는데 일주일에 한번씩 오라고 하네요. 도수치료 가격이 비싼 것은 알고있지만 저는 제 상태가 안좋아서 그런가 하고 받지 못하고 돌아왔습니다. 재방문은 하지 않을 것 같습니다. 사람이 많아서 그런지 예약을 하고 가도 대기시간이 길어서 불편했습니다. 그리고 청결한 병원이어서 좋습니다. 도수치료는 예약하고 받지만 예약도 힘들고 대기시간이 길어서 불편했습니다.\n",
            "로 6천원인가 7천원이라고 하셨어요. 그리고 진료비는 다른 병원에 비해 조금 비싼 편이구요. 그래도 신뢰가 가는 병원이었어요. 약국도 바로 근처에 있어서 진료받고 바로 약을 타서 바로 나았어요. 대기시간도 짧아서 좋았습니다. 그리고 의사선생님도 친절하셔서 좋았어요. 병원이 커서 사람들도 많았습니다. 그래도 진료를 잘 봐주시고 친절하셔서 좋았어요. 병원이 커서 사람들도 많았습니다. 그래도 진료를 잘 봐주시\n",
            "는 저렴해요. 원장님은 친절한데 직원들은 별로예요. 사람이 많아서 예약안하면 대기시간이 길고, 원장님 진료 예약 안하면 기본 30분은 기다려야해요. 진료실은 쾌적한 편이고 정리정돈 잘 되어있는 편입니다. 원장님은 진료가 꼼꼼하게 잘보시는 편이세요. 임신초기부터 출산까지 해서 다녔는데 원장님 진료때마다 잘 봐주시고 친절하십니다. 다른 병원에서 임신확인하고 오랜만에 오신 분들이 많았는데 여기 병원에서 임신확인후\n",
            "도 적정한 것 같습니다. 치료나 설명도 차분하고 친절하게 해주셔서 치과에 대한 두려움이 있을 때 항상 이용하는 병원입니다. 다만 주말은 예약이 안되서 대기가 조금 길었던 단점이 있네요. 토요일 오전에는 대기가 짧아서 평일 오후에도 진료를 볼 수 있습니다. 데스크분들도 친절하십니다. 다만 예약이 되지 않고 방문이 진료에 따라 다르게 눈상태를 체크하고 마무리하려는 것이 아쉬웠습니다. 의사선생님은 친절하시고 자세한 설명을\n"
          ],
          "name": "stdout"
        }
      ]
    },
    {
      "cell_type": "markdown",
      "metadata": {
        "id": "40WRzMcdn5QG"
      },
      "source": [
        "#ADA FULL"
      ]
    },
    {
      "cell_type": "code",
      "metadata": {
        "id": "VIk-bHutXPrz",
        "colab": {
          "base_uri": "https://localhost:8080/"
        },
        "outputId": "880f77e6-e531-4283-967c-78a13678056c"
      },
      "source": [
        "run = openai.Completion.create(\n",
        "  model=\"ada:ft-dajeongdagam-2021-07-27-05-40-08\",      # 모델명 입력\n",
        "  prompt=\"진료비\",     # 원하는 텍스트 입력\n",
        "  temperature=0.5,      # 디폴트 1. 0에 가까울수록 정제된 문장, 높아질수록 창의적 문장\n",
        "  max_tokens=500,       # 최대 2048토큰까지\n",
        "  n = 5                 # 결과물 개수 (토큰 사용량과 연관이 큼)\n",
        ")\n",
        "\n",
        "output = [run.choices[0]['text'], run.choices[1]['text'], run.choices[2]['text'], run.choices[3]['text'], run.choices[4]['text']]\n",
        "print(output[0])\n",
        "print(output[1])\n",
        "print(output[2])\n",
        "print(output[3])\n",
        "print(output[4])"
      ],
      "execution_count": null,
      "outputs": [
        {
          "output_type": "stream",
          "text": [
            "를 생각하면 비용이 조금 부담이 될 수도 있어요. 그래도 약물치료로 진행되어 크게 부정적인 의견은 없어서 만족합니다. 다만 대기시간이 너무 길어요. 그래도 의사선생님이 친절하셔서 좋아요. 앞으로도 자주 이용할 것 같아요. 진료비도 적당한 편이라고 생각합니다. 직원분들도 친절하시고 좋아요. 대기시간만 빼면 좋은 병원이에요. 추천합니다. 다만 주차가 좀 힘들어요. 그것만 유의하시면 좋을 것 같아요. 주차장이 좁아서 \n",
            "도 다른병원에 비해 저렴하고 좋았습니다. 다른치료는 받지않았지만 의사선생님이 친절하셔서 좋았습니다. 앞으로 자주 방문하고 싶은 곳이에요! 다만 예약을 하고가지않으면 대기시간이 좀 길어질 수 있으니 예약하고 가시는게 좋을 것 같아요. 간호사분들도 친절하시고 병원도 깨끗해서 좋았습니다. 다만 아쉬운 점은 의사선생님이 좀 무뚝뚝하고 살가운 느낌이어서 조금 아쉬웠습니다. 그래도 치료는 잘해주시고 추천드립니다.\n",
            "가 좀 비싸서 아쉽네요ㅠㅠ 그래도 친절하고 좋아요! 추천해요! 아니면 병원비 하나도 드세요ㅠㅠㅠㅠㅠㅠㅠㅠㅠㅠㅠㅠㅠㅠㅠㅠㅠㅠㅠㅠㅠㅠㅠㅠㅠㅠㅠㅠㅠㅠㅠㅠㅠㅠㅠㅠㅠㅠㅠㅠㅠㅠㅠㅠㅠㅠㅠㅠㅠㅠㅠㅠㅠㅠㅠㅠㅠㅠㅠㅠㅠㅠㅠㅠㅠ 이것도 뭐 그냥 그래요ㅠㅠㅠㅠㅠㅠㅠㅠㅠㅠㅠㅠㅠㅠㅠㅠㅠㅠㅠㅠㅠㅠㅠㅠㅠㅠㅠㅠㅠㅠㅠㅠㅠㅠㅠㅠㅠㅠㅠㅠㅠㅠㅠㅠㅠㅠㅠㅠㅠㅠㅠㅠㅠㅠㅠ\n",
            "용은 비싸지만 치료에대한 설명은 잘해주셨습니다. 치료를 받고나서 어떻게 관리를 해야하는지도 알려주셨습니다. 그리고 치료를 받고나서 어떤상태인지도 알려주셨습니다. 치료를 하고나서 어떤식으로 치료를 해야하는지도 알려주셨습니다. 그리고 치료를 받고나서 어떤식으로 진료를 해야하는지도 알려주셨습니다. 또한 치료 결과도 좋았습니다. 다만 치료 후 결과가 좋았던건지는 모르겠지만 치료 후 결과에 대한\n",
            "도 저렴한 편이에요. 인기가 많아서 예약하고 가도 약간의 대기시간은 있지만 그래도 다른 직원분들도 친절하시고 의사선생님도 친절하십니다. 진료비도 다른 병원보다 저렴한 편입니다. 다만 진료 전에 설명을 자세히 해주시지는 않아서 약간 아쉬웠어요. 처방받은 약이 잘 들어서 다시 방문하지는 않았습니다. 참고로 저는 약을 다 먹어도 낫지 않아서 다른 병원으로 옮겼습니다. 추천합니다. 정말 추천합니다. 아 그리고 진료 전에 미\n"
          ],
          "name": "stdout"
        }
      ]
    },
    {
      "cell_type": "markdown",
      "metadata": {
        "id": "LpQolzsYoNuH"
      },
      "source": [
        "#CURIE FULL"
      ]
    },
    {
      "cell_type": "code",
      "metadata": {
        "id": "R1GQXmdToPXi",
        "colab": {
          "base_uri": "https://localhost:8080/"
        },
        "outputId": "81810529-428d-4881-e5e9-4828dd9a1fd1"
      },
      "source": [
        "run = openai.Completion.create(\n",
        "  model=\"curie:ft-dajeongdagam-2021-07-27-12-05-02\",      # 모델명 입력\n",
        "  prompt=\"진료비\",     # 원하는 텍스트 입력\n",
        "  temperature=0.5,      # 디폴트 1. 0에 가까울수록 정제된 문장, 높아질수록 창의적 문장\n",
        "  max_tokens=500,       # 최대 2048토큰까지\n",
        "  n = 5                 # 결과물 개수 (토큰 사용량과 연관이 큼)\n",
        ")\n",
        "\n",
        "output = [run.choices[0]['text'], run.choices[1]['text'], run.choices[2]['text'], run.choices[3]['text'], run.choices[4]['text']]\n",
        "print(output[0])\n",
        "print(output[1])\n",
        "print(output[2])\n",
        "print(output[3])\n",
        "print(output[4])"
      ],
      "execution_count": null,
      "outputs": [
        {
          "output_type": "stream",
          "text": [
            "가 비싸지 않더라구요. 바우처럼 수액도 맞을 수 있는 공간도 있어요. 주사실이 조금 추우니까 살짝 쑥스러운거는 잊지 말라고 하셨어요. 직원분들은 전반적으로 친절하세요. 주사 맞고 나서 침대에 누워서 베드에 티슈를 가져가면 주사비 걱정되는 부분을 설명해주시고 밴드도 깔끔하게 붙여주세요. 아직 주사 맞은지 얼마 안되어서 효과는 모르겠지만 주사 맞을때마다 피로가 많이 나아졌다면 좋겠습니다. 주사 맞고 항생제\n",
            "가 천원이었습니다. 접수대 직원분들은 불친절하진 않지만 차가운 느낌이었어요. 의사선생님은 친절하게 잘 설명해주셨어요. 의사선생님이 젊으셔서 그런지 자세하게 설명해주시고 친절하셨어요. 생긴지 얼마 안된곳이라 깔끔하고 시설도 좋았습니다. 다만 치료가 어려운 느낌이 들어서 다시 가지는 않았어요. 그래도 선생님이 친절하셔서 다시 가야하면 집 주변으로 선택할것 같아요. 추천합니다. 재방문 의사 있습니다. 가격도\n",
            " 약품비 모두 합해서 총 10,100원 나왔어요. 만족합니다. 앞으로도 자주 갈거 같아요. 저는 개인적으로 추천합니다. 다른 지인들한테도 추천했어요. 다들 아프실때 가보세요. 저는 아팠던 곳은 하나도 안 아팠어요. 여드름 치료는 전문의병원에서 받아도 되지만 전문의 선생님만 있어서 다니기에는 멀어도 괜찮은 것 같아요. 개인적으로 전문의가 잘하는 것 같아요. 과잉진료도 없고요. 다들 가기전에 전화하고 가시는 게 좋을 \n",
            "도 다른병원보다 살짝 비싼것 같기도하고..병원은 깨끗하고 좋았는데 금액이 좀 쎄요ㅠㅠ진료자체는 잘해주셨습니다. 친절하긴 하세요! 그래도 다른병원을 다시가보지않았지만 이병원에서 진료한게 잘못된건지는 잘모르겠어요ㅠㅠ그래도 진료는 잘봐주시는거같아요! 예약하고가시길! 전체적으로는 나쁘지않았어요! 근데 치료과정에서 좀 자세한설명이나 그런게 있었으면 좋겠다는 생각을 했습니다!! 그래도\n",
            "는 평균인거 같습니다. 직원들은 친절하지도 불친절하지도 않았습니다. 예약을 하고 가서 대기시간은 거의 없었습니다. 다른 산부인과보다 진료비가 조금 더 비싼 편인거 같습니다. 그렇지만 시설이 깔끔하고 직원들이 친절하여 만족합니다. 의사선생님도 설명을 잘 해주시고 친절합니다. 재방문 의사 있습니다. 추천합니다. 사소하게 이것저것 물어볼 수 있습니다. 의사선생님이 친절하십니다. 병원이 깔끔합니다. 친절한 의사 선생님이 있는 산부인\n"
          ],
          "name": "stdout"
        }
      ]
    },
    {
      "cell_type": "code",
      "metadata": {
        "id": "8T8EKHJzo_iY"
      },
      "source": [
        "run = openai.Completion.create(\n",
        "  model=\"curie:ft-dajeongdagam-2021-07-27-12-05-02\",      # 모델명 입력\n",
        "  prompt=\"진료비\",     # 원하는 텍스트 입력\n",
        "  temperature=0.6,      # 디폴트 1. 0에 가까울수록 정제된 문장, 높아질수록 창의적 문장\n",
        "  max_tokens=500,       # 최대 2048토큰까지\n",
        "  n = 5                 # 결과물 개수 (토큰 사용량과 연관이 큼)\n",
        ")\n",
        "\n",
        "output = [run.choices[0]['text'], run.choices[1]['text'], run.choices[2]['text'], run.choices[3]['text'], run.choices[4]['text']]\n",
        "print(output[0])\n",
        "print(output[1])\n",
        "print(output[2])\n",
        "print(output[3])\n",
        "print(output[4])"
      ],
      "execution_count": null,
      "outputs": []
    },
    {
      "cell_type": "markdown",
      "metadata": {
        "id": "hzovGr0HqPPO"
      },
      "source": [
        "#병원 리뷰 데이터량 1/2"
      ]
    },
    {
      "cell_type": "code",
      "metadata": {
        "id": "HbpZt7meqRud",
        "colab": {
          "base_uri": "https://localhost:8080/"
        },
        "outputId": "f5aeec9a-2478-4fe2-e31e-2581a6ce6868"
      },
      "source": [
        "run = openai.Completion.create(\n",
        "  model=\"babbage:ft-dajeongdagam-2021-07-27-10-31-54\",      # 모델명 입력\n",
        "  prompt=\"진료비\",     # 원하는 텍스트 입력\n",
        "  temperature=0.5,      # 디폴트 1. 0에 가까울수록 정제된 문장, 높아질수록 창의적 문장\n",
        "  max_tokens=500,       # 최대 2048토큰까지\n",
        "  n = 5                 # 결과물 개수 (토큰 사용량과 연관이 큼)\n",
        ")\n",
        "\n",
        "output = [run.choices[0]['text'], run.choices[1]['text'], run.choices[2]['text'], run.choices[3]['text'], run.choices[4]['text']]\n",
        "print(output[0])\n",
        "print(output[1])\n",
        "print(output[2])\n",
        "print(output[3])\n",
        "print(output[4])"
      ],
      "execution_count": null,
      "outputs": [
        {
          "output_type": "stream",
          "text": [
            "는 보험되는 질환때문에 얼마나 나올지는 모르겠지만 이건 병원에 따라 금액도 차이가 나네요ㅠㅠ 다른 곳에서 진료받다가 비용이 많이 나와서 여기서 치료받았는데 아직도 눈이 건조하고 눈까지 가렵고 이물감이 있어서 정형외과에 갔는데 인공눈물만 처방받아왔습니다. 진료는 꼼꼼하게 봐주시는 편이지만 치료비가 많이 나오니까 그러려니 하고 있어요ㅠㅠ 진료비 결재하기가 힘들어요 인공눈물 처방받을때마다\n",
            " 받으시는 것도 좋을 것 같아요. 다른 안과에서 진료보다 갯수로 가격비교해본 적이 있어서 그것도 좋네요. 진료실 내부는 청결한 편이고 진료 받고 나서 설명도 잘 해주시는 편이에요. 항상 손님이 많은 것 같아요. 대기시간은 좀 길어요. 그래도 진료는 잘 봐주셔서 좋습니다. 추천해요. 지하철역이랑 가까워서 좋습니다. 저는 한 번 갔더니 재방문 할 것 같아요. 다음에도 갈 의향 있습니다. 진료비는 다른 곳에 비해서는 조금\n",
            "도 저렴한 편이었습니다. 앞으로도 다시 이용할 것 같습니다. 감사합니다. 이용하기 좋은 병원이었습니다. 비록 진료비가 약간 비싸지만 정말 좋은 병원이었습니다. 앞으로도 다시 이용할 것 같습니다. 감사합니다. 이용하기 좋은 병원이었습니다. 비록 진료비가 약간 비싸지만 정말 좋은 병원이었습니다. 앞으로도 다시 이용할 것 같습니다. 감사합니다. 이용하기 좋은 병원이었습니다. 비록 진료비가 약간 비싸지만 정말 좋은 병원이었습니다. 앞\n",
            "는 다른 병원들과 비슷한 정도였습니다. 진료 전에 안압검사를 해야하는데 안해주셔서 좀 불편했습니다. 치료 후 결과는 좋았습니다. 시설이 좋고 직원분들이 친절하십니다. 다만 예약을 하고 가도 대기시간이 좀 길었습니다. 그리고 병원 자체가 깔끔하진 않은 것 같습니다. 그래도 재방문 의사가 있습니다. 진료비는 다른 병원도 비슷한 것 같습니다. 재방문의사가 있습니다. 진료비는 다른 병원도 비슷한 것 같습니다. 재방문의사가\n",
            "도 적절하였습니다. 진료실 내부도 청결하고 진료를 볼때도 안심시켜주시며 친절하게 진료를 봐주셨습니다. 재방문의사 있습니다. 감사합니다. 그외 직원분들도 친절하시고 좋았습니다. 금액도 적절하였습니다. 다음에도 또 진료를 보겠습니다. 감사합니다. 그 외 주차장은 좀 불편합니다. 주차 발렛 해주시는 분들이 매우 친절하셔서 좋았습니다. 주차 공간이 협소해서 조금 어려웠습니다. 그 외 진료실은 대기실도 쾌적하고 좋았습니다. \n"
          ],
          "name": "stdout"
        }
      ]
    },
    {
      "cell_type": "markdown",
      "metadata": {
        "id": "L8e19P3RqW7w"
      },
      "source": [
        "#병원 리뷰 데이터량 1MB"
      ]
    },
    {
      "cell_type": "code",
      "metadata": {
        "id": "X6S5jyDlqYxn",
        "colab": {
          "base_uri": "https://localhost:8080/",
          "height": 396
        },
        "outputId": "2b47fe6e-a2dd-4873-e69c-f7e6c619ad54"
      },
      "source": [
        "run = openai.Completion.create(\n",
        "  model=\"babbage:ft-dajeongdagam-2021-07-28-10-49-49\",      # 모델명 입력\n",
        "  prompt=\"신경치료\",     # 원하는 텍스트 입력\n",
        "  temperature=0.5,      # 디폴트 1. 0에 가까울수록 정제된 문장, 높아질수록 창의적 문장\n",
        "  max_tokens=500,       # 최대 2048토큰까지\n",
        "  n = 5                 # 결과물 개수 (토큰 사용량과 연관이 큼)\n",
        ")\n",
        "\n",
        "output = [run.choices[0]['text'], run.choices[1]['text'], run.choices[2]['text'], run.choices[3]['text'], run.choices[4]['text']]\n",
        "print('1st\\n', output[0])\n",
        "print('2nd\\n', output[1])\n",
        "print('3rd\\n', output[2])\n",
        "print('4th\\n', output[3])\n",
        "print('5th\\n', output[4])"
      ],
      "execution_count": null,
      "outputs": [
        {
          "output_type": "error",
          "ename": "RateLimitError",
          "evalue": "ignored",
          "traceback": [
            "\u001b[0;31m---------------------------------------------------------------------------\u001b[0m",
            "\u001b[0;31mRateLimitError\u001b[0m                            Traceback (most recent call last)",
            "\u001b[0;32m<ipython-input-16-1fc496aeeaa6>\u001b[0m in \u001b[0;36m<module>\u001b[0;34m()\u001b[0m\n\u001b[1;32m      4\u001b[0m   \u001b[0mtemperature\u001b[0m\u001b[0;34m=\u001b[0m\u001b[0;36m0.5\u001b[0m\u001b[0;34m,\u001b[0m      \u001b[0;31m# 디폴트 1. 0에 가까울수록 정제된 문장, 높아질수록 창의적 문장\u001b[0m\u001b[0;34m\u001b[0m\u001b[0;34m\u001b[0m\u001b[0m\n\u001b[1;32m      5\u001b[0m   \u001b[0mmax_tokens\u001b[0m\u001b[0;34m=\u001b[0m\u001b[0;36m500\u001b[0m\u001b[0;34m,\u001b[0m       \u001b[0;31m# 최대 2048토큰까지\u001b[0m\u001b[0;34m\u001b[0m\u001b[0;34m\u001b[0m\u001b[0m\n\u001b[0;32m----> 6\u001b[0;31m   \u001b[0mn\u001b[0m \u001b[0;34m=\u001b[0m \u001b[0;36m5\u001b[0m                 \u001b[0;31m# 결과물 개수 (토큰 사용량과 연관이 큼)\u001b[0m\u001b[0;34m\u001b[0m\u001b[0;34m\u001b[0m\u001b[0m\n\u001b[0m\u001b[1;32m      7\u001b[0m )\n\u001b[1;32m      8\u001b[0m \u001b[0;34m\u001b[0m\u001b[0m\n",
            "\u001b[0;32m/usr/local/lib/python3.7/dist-packages/openai/api_resources/completion.py\u001b[0m in \u001b[0;36mcreate\u001b[0;34m(cls, *args, **kwargs)\u001b[0m\n\u001b[1;32m     29\u001b[0m         \u001b[0;32mwhile\u001b[0m \u001b[0;32mTrue\u001b[0m\u001b[0;34m:\u001b[0m\u001b[0;34m\u001b[0m\u001b[0;34m\u001b[0m\u001b[0m\n\u001b[1;32m     30\u001b[0m             \u001b[0;32mtry\u001b[0m\u001b[0;34m:\u001b[0m\u001b[0;34m\u001b[0m\u001b[0;34m\u001b[0m\u001b[0m\n\u001b[0;32m---> 31\u001b[0;31m                 \u001b[0;32mreturn\u001b[0m \u001b[0msuper\u001b[0m\u001b[0;34m(\u001b[0m\u001b[0;34m)\u001b[0m\u001b[0;34m.\u001b[0m\u001b[0mcreate\u001b[0m\u001b[0;34m(\u001b[0m\u001b[0;34m*\u001b[0m\u001b[0margs\u001b[0m\u001b[0;34m,\u001b[0m \u001b[0;34m**\u001b[0m\u001b[0mkwargs\u001b[0m\u001b[0;34m)\u001b[0m\u001b[0;34m\u001b[0m\u001b[0;34m\u001b[0m\u001b[0m\n\u001b[0m\u001b[1;32m     32\u001b[0m             \u001b[0;32mexcept\u001b[0m \u001b[0mTryAgain\u001b[0m \u001b[0;32mas\u001b[0m \u001b[0me\u001b[0m\u001b[0;34m:\u001b[0m\u001b[0;34m\u001b[0m\u001b[0;34m\u001b[0m\u001b[0m\n\u001b[1;32m     33\u001b[0m                 \u001b[0;32mif\u001b[0m \u001b[0mtimeout\u001b[0m \u001b[0;32mis\u001b[0m \u001b[0;32mnot\u001b[0m \u001b[0;32mNone\u001b[0m \u001b[0;32mand\u001b[0m \u001b[0mtime\u001b[0m\u001b[0;34m.\u001b[0m\u001b[0mtime\u001b[0m\u001b[0;34m(\u001b[0m\u001b[0;34m)\u001b[0m \u001b[0;34m>\u001b[0m \u001b[0mstart\u001b[0m \u001b[0;34m+\u001b[0m \u001b[0mtimeout\u001b[0m\u001b[0;34m:\u001b[0m\u001b[0;34m\u001b[0m\u001b[0;34m\u001b[0m\u001b[0m\n",
            "\u001b[0;32m/usr/local/lib/python3.7/dist-packages/openai/api_resources/abstract/engine_api_resource.py\u001b[0m in \u001b[0;36mcreate\u001b[0;34m(cls, api_key, api_base, idempotency_key, request_id, api_version, organization, **params)\u001b[0m\n\u001b[1;32m     65\u001b[0m         \u001b[0mheaders\u001b[0m \u001b[0;34m=\u001b[0m \u001b[0mutil\u001b[0m\u001b[0;34m.\u001b[0m\u001b[0mpopulate_headers\u001b[0m\u001b[0;34m(\u001b[0m\u001b[0midempotency_key\u001b[0m\u001b[0;34m,\u001b[0m \u001b[0mrequest_id\u001b[0m\u001b[0;34m)\u001b[0m\u001b[0;34m\u001b[0m\u001b[0;34m\u001b[0m\u001b[0m\n\u001b[1;32m     66\u001b[0m         response, _, api_key = requestor.request(\n\u001b[0;32m---> 67\u001b[0;31m             \u001b[0;34m\"post\"\u001b[0m\u001b[0;34m,\u001b[0m \u001b[0murl\u001b[0m\u001b[0;34m,\u001b[0m \u001b[0mparams\u001b[0m\u001b[0;34m,\u001b[0m \u001b[0mheaders\u001b[0m\u001b[0;34m,\u001b[0m \u001b[0mstream\u001b[0m\u001b[0;34m=\u001b[0m\u001b[0mstream\u001b[0m\u001b[0;34m\u001b[0m\u001b[0;34m\u001b[0m\u001b[0m\n\u001b[0m\u001b[1;32m     68\u001b[0m         )\n\u001b[1;32m     69\u001b[0m \u001b[0;34m\u001b[0m\u001b[0m\n",
            "\u001b[0;32m/usr/local/lib/python3.7/dist-packages/openai/api_requestor.py\u001b[0m in \u001b[0;36mrequest\u001b[0;34m(self, method, url, params, headers, stream)\u001b[0m\n\u001b[1;32m    127\u001b[0m             \u001b[0mmethod\u001b[0m\u001b[0;34m.\u001b[0m\u001b[0mlower\u001b[0m\u001b[0;34m(\u001b[0m\u001b[0;34m)\u001b[0m\u001b[0;34m,\u001b[0m \u001b[0murl\u001b[0m\u001b[0;34m,\u001b[0m \u001b[0mparams\u001b[0m\u001b[0;34m,\u001b[0m \u001b[0mheaders\u001b[0m\u001b[0;34m,\u001b[0m \u001b[0mstream\u001b[0m\u001b[0;34m=\u001b[0m\u001b[0mstream\u001b[0m\u001b[0;34m\u001b[0m\u001b[0;34m\u001b[0m\u001b[0m\n\u001b[1;32m    128\u001b[0m         )\n\u001b[0;32m--> 129\u001b[0;31m         \u001b[0mresp\u001b[0m \u001b[0;34m=\u001b[0m \u001b[0mself\u001b[0m\u001b[0;34m.\u001b[0m\u001b[0minterpret_response\u001b[0m\u001b[0;34m(\u001b[0m\u001b[0mrbody\u001b[0m\u001b[0;34m,\u001b[0m \u001b[0mrcode\u001b[0m\u001b[0;34m,\u001b[0m \u001b[0mrheaders\u001b[0m\u001b[0;34m,\u001b[0m \u001b[0mstream\u001b[0m\u001b[0;34m=\u001b[0m\u001b[0mstream\u001b[0m\u001b[0;34m)\u001b[0m\u001b[0;34m\u001b[0m\u001b[0;34m\u001b[0m\u001b[0m\n\u001b[0m\u001b[1;32m    130\u001b[0m         \u001b[0;32mreturn\u001b[0m \u001b[0mresp\u001b[0m\u001b[0;34m,\u001b[0m \u001b[0mstream\u001b[0m\u001b[0;34m,\u001b[0m \u001b[0mmy_api_key\u001b[0m\u001b[0;34m\u001b[0m\u001b[0;34m\u001b[0m\u001b[0m\n\u001b[1;32m    131\u001b[0m \u001b[0;34m\u001b[0m\u001b[0m\n",
            "\u001b[0;32m/usr/local/lib/python3.7/dist-packages/openai/api_requestor.py\u001b[0m in \u001b[0;36minterpret_response\u001b[0;34m(self, rbody, rcode, rheaders, stream)\u001b[0m\n\u001b[1;32m    346\u001b[0m             )\n\u001b[1;32m    347\u001b[0m         \u001b[0;32melse\u001b[0m\u001b[0;34m:\u001b[0m\u001b[0;34m\u001b[0m\u001b[0;34m\u001b[0m\u001b[0m\n\u001b[0;32m--> 348\u001b[0;31m             \u001b[0;32mreturn\u001b[0m \u001b[0mself\u001b[0m\u001b[0;34m.\u001b[0m\u001b[0minterpret_response_line\u001b[0m\u001b[0;34m(\u001b[0m\u001b[0mrbody\u001b[0m\u001b[0;34m,\u001b[0m \u001b[0mrcode\u001b[0m\u001b[0;34m,\u001b[0m \u001b[0mrheaders\u001b[0m\u001b[0;34m,\u001b[0m \u001b[0mstream\u001b[0m\u001b[0;34m)\u001b[0m\u001b[0;34m\u001b[0m\u001b[0;34m\u001b[0m\u001b[0m\n\u001b[0m\u001b[1;32m    349\u001b[0m \u001b[0;34m\u001b[0m\u001b[0m\n\u001b[1;32m    350\u001b[0m     \u001b[0;32mdef\u001b[0m \u001b[0minterpret_response_line\u001b[0m\u001b[0;34m(\u001b[0m\u001b[0mself\u001b[0m\u001b[0;34m,\u001b[0m \u001b[0mrbody\u001b[0m\u001b[0;34m,\u001b[0m \u001b[0mrcode\u001b[0m\u001b[0;34m,\u001b[0m \u001b[0mrheaders\u001b[0m\u001b[0;34m,\u001b[0m \u001b[0mstream\u001b[0m\u001b[0;34m=\u001b[0m\u001b[0;32mFalse\u001b[0m\u001b[0;34m)\u001b[0m\u001b[0;34m:\u001b[0m\u001b[0;34m\u001b[0m\u001b[0;34m\u001b[0m\u001b[0m\n",
            "\u001b[0;32m/usr/local/lib/python3.7/dist-packages/openai/api_requestor.py\u001b[0m in \u001b[0;36minterpret_response_line\u001b[0;34m(self, rbody, rcode, rheaders, stream)\u001b[0m\n\u001b[1;32m    366\u001b[0m         \u001b[0;32mif\u001b[0m \u001b[0mstream_error\u001b[0m \u001b[0;32mor\u001b[0m \u001b[0;32mnot\u001b[0m \u001b[0;36m200\u001b[0m \u001b[0;34m<=\u001b[0m \u001b[0mrcode\u001b[0m \u001b[0;34m<\u001b[0m \u001b[0;36m300\u001b[0m\u001b[0;34m:\u001b[0m\u001b[0;34m\u001b[0m\u001b[0;34m\u001b[0m\u001b[0m\n\u001b[1;32m    367\u001b[0m             raise self.handle_error_response(\n\u001b[0;32m--> 368\u001b[0;31m                 \u001b[0mrbody\u001b[0m\u001b[0;34m,\u001b[0m \u001b[0mrcode\u001b[0m\u001b[0;34m,\u001b[0m \u001b[0mresp\u001b[0m\u001b[0;34m.\u001b[0m\u001b[0mdata\u001b[0m\u001b[0;34m,\u001b[0m \u001b[0mrheaders\u001b[0m\u001b[0;34m,\u001b[0m \u001b[0mstream_error\u001b[0m\u001b[0;34m=\u001b[0m\u001b[0mstream_error\u001b[0m\u001b[0;34m\u001b[0m\u001b[0;34m\u001b[0m\u001b[0m\n\u001b[0m\u001b[1;32m    369\u001b[0m             )\n\u001b[1;32m    370\u001b[0m \u001b[0;34m\u001b[0m\u001b[0m\n",
            "\u001b[0;31mRateLimitError\u001b[0m: That model is still being loaded. Please try again shortly."
          ]
        }
      ]
    },
    {
      "cell_type": "code",
      "metadata": {
        "id": "eUjb50bxby_B"
      },
      "source": [
        "run = openai.Completion.create(\n",
        "  model=\"curie:ft-dajeongdagam-2021-07-28-08-41-27\",      # 모델명 입력\n",
        "  prompt=\"신경치료\",     # 원하는 텍스트 입력\n",
        "  temperature=0.5,      # 디폴트 1. 0에 가까울수록 정제된 문장, 높아질수록 창의적 문장\n",
        "  max_tokens=500,       # 최대 2048토큰까지\n",
        "  n = 5                 # 결과물 개수 (토큰 사용량과 연관이 큼)\n",
        ")\n",
        "\n",
        "output = [run.choices[0]['text'], run.choices[1]['text'], run.choices[2]['text'], run.choices[3]['text'], run.choices[4]['text']]\n",
        "print('1st\\n', output[0])\n",
        "print('2nd\\n', output[1])\n",
        "print('3rd\\n', output[2])\n",
        "print('4th\\n', output[3])\n",
        "print('5th\\n', output[4])"
      ],
      "execution_count": null,
      "outputs": []
    },
    {
      "cell_type": "markdown",
      "metadata": {
        "id": "vM9e60voxDwO"
      },
      "source": [
        "#CURIE 1MB"
      ]
    },
    {
      "cell_type": "code",
      "metadata": {
        "colab": {
          "base_uri": "https://localhost:8080/"
        },
        "id": "dLGq1kzVxGWJ",
        "outputId": "fc151781-a6c6-4fe4-f4c7-40c985459b7b"
      },
      "source": [
        "run = openai.Completion.create(\n",
        "  model=\"curie:ft-dajeongdagam-2021-07-28-06-39-10\",      # 모델명 입력\n",
        "  prompt=\"신경치료\",     # 원하는 텍스트 입력\n",
        "  temperature=0.5,      # 디폴트 1. 0에 가까울수록 정제된 문장, 높아질수록 창의적 문장\n",
        "  max_tokens=500,       # 최대 2048토큰까지\n",
        "  n = 5                 # 결과물 개수 (토큰 사용량과 연관이 큼)\n",
        ")\n",
        "\n",
        "output = [run.choices[0]['text'], run.choices[1]['text'], run.choices[2]['text'], run.choices[3]['text'], run.choices[4]['text']]\n",
        "print('1st\\n', output[0])\n",
        "print('2nd\\n', output[1])\n",
        "print('3rd\\n', output[2])\n",
        "print('4th\\n', output[3])\n",
        "print('5th\\n', output[4])"
      ],
      "execution_count": null,
      "outputs": [
        {
          "output_type": "stream",
          "text": [
            "1st\n",
            " 를 권하는데 이곳에서는 무조건 치료를 권하지 않는다는 점이 많이 나온다고 하셨습니다.\n",
            "이렇게 권하지 않는다는 게 중요하다는 거 같아서 좋았습니다.\n",
            "다른치과에서는 매복사랑니를 뽑았는데 그래도 하나도 아프지 않았습니다. 사랑니는 다른치과에서 뽑았는데 그래도 하나도 아프지 않았습니다. 자연치아를 사용하시는 느낌이 들었습니다.\n",
            "이제 사랑니 뽑아야하는데 자연치아랑 어떻게 해야하는지 잘 설명해주셔서 좋았습니\n",
            "2nd\n",
            "  11만원\n",
            "\n",
            "3rd\n",
            " 해야할경우는 다른곳으로 가야한다는걸로 알고있어서 더 좋았던거같아요\n",
            "\n",
            "4th\n",
            " 로 진행하였습니다. 임신중이라 많이 걱정했지만 잘 마무리했고 생활습관도 좋아서 신기했습니다. 전체적으로 만족했습니다.\n",
            "다만 제 사랑니가 무서워서 너무 고생을 했던 걸 참고해주시면 좋을 것 같습니다.\n",
            "다만 신경치료 전 여러개 치료를 하자고 하시는데 그때 간단한 치료만 해주시면 될 것 같습니다.\n",
            "다만 치과 진료 전 여러개 치료를 하자고 하시는 분은 좀 더 자세한 설명을 해주시면 좋을 것 같습니다.\n",
            "다만 사람이 많아서 자\n",
            "5th\n",
            " 해야한다는말에\n",
            "\n"
          ],
          "name": "stdout"
        }
      ]
    },
    {
      "cell_type": "markdown",
      "metadata": {
        "id": "YXlzWlfbxJma"
      },
      "source": [
        "#CURIE 2MB"
      ]
    },
    {
      "cell_type": "code",
      "metadata": {
        "id": "j257xUU5xLZq"
      },
      "source": [
        "run = openai.Completion.create(\n",
        "  model=\"curie:ft-dajeongdagam-2021-07-28-07-03-48\",      # 모델명 입력\n",
        "  prompt=\"신경치료\",     # 원하는 텍스트 입력\n",
        "  temperature=0.5,      # 디폴트 1. 0에 가까울수록 정제된 문장, 높아질수록 창의적 문장\n",
        "  max_tokens=500,       # 최대 2048토큰까지\n",
        "  n = 5                 # 결과물 개수 (토큰 사용량과 연관이 큼)\n",
        ")\n",
        "\n",
        "output = [run.choices[0]['text'], run.choices[1]['text'], run.choices[2]['text'], run.choices[3]['text'], run.choices[4]['text']]\n",
        "print('1st\\n', output[0])\n",
        "print('2nd\\n', output[1])\n",
        "print('3rd\\n', output[2])\n",
        "print('4th\\n', output[3])\n",
        "print('5th\\n', output[4])"
      ],
      "execution_count": null,
      "outputs": []
    },
    {
      "cell_type": "markdown",
      "metadata": {
        "id": "CXv1C8T8xN4c"
      },
      "source": [
        "#CURIE 5MB"
      ]
    },
    {
      "cell_type": "code",
      "metadata": {
        "id": "iLFG2QMhxPFD"
      },
      "source": [
        "run = openai.Completion.create(\n",
        "  model=\"curie:ft-dajeongdagam-2021-07-28-08-41-27\",      # 모델명 입력\n",
        "  prompt=\"신경치료\",     # 원하는 텍스트 입력\n",
        "  temperature=0.5,      # 디폴트 1. 0에 가까울수록 정제된 문장, 높아질수록 창의적 문장\n",
        "  max_tokens=500,       # 최대 2048토큰까지\n",
        "  n = 5                 # 결과물 개수 (토큰 사용량과 연관이 큼)\n",
        ")\n",
        "\n",
        "output = [run.choices[0]['text'], run.choices[1]['text'], run.choices[2]['text'], run.choices[3]['text'], run.choices[4]['text']]\n",
        "print('1st\\n', output[0])\n",
        "print('2nd\\n', output[1])\n",
        "print('3rd\\n', output[2])\n",
        "print('4th\\n', output[3])\n",
        "print('5th\\n', output[4])"
      ],
      "execution_count": null,
      "outputs": []
    },
    {
      "cell_type": "code",
      "metadata": {
        "colab": {
          "base_uri": "https://localhost:8080/"
        },
        "id": "Dn3mzlB74Akg",
        "outputId": "0c5296bd-bc78-4e17-da8e-f040fc28c540"
      },
      "source": [
        "run = openai.Completion.create(\n",
        "  model=\"babbage:ft-dajeongdagam-2021-07-27-10-31-54\",      # 모델명 입력\n",
        "  prompt=\"신경치료\",     # 원하는 텍스트 입력\n",
        "  temperature=0.5,      # 디폴트 1. 0에 가까울수록 정제된 문장, 높아질수록 창의적 문장\n",
        "  max_tokens=500,       # 최대 2048토큰까지\n",
        "  n = 5                 # 결과물 개수 (토큰 사용량과 연관이 큼)\n",
        ")\n",
        "\n",
        "output = [run.choices[0]['text'], run.choices[1]['text'], run.choices[2]['text'], run.choices[3]['text'], run.choices[4]['text']]\n",
        "print('1st\\n', output[0])\n",
        "print('2nd\\n', output[1])\n",
        "print('3rd\\n', output[2])\n",
        "print('4th\\n', output[3])\n",
        "print('5th\\n', output[4])"
      ],
      "execution_count": null,
      "outputs": [
        {
          "output_type": "stream",
          "text": [
            "1st\n",
            " 로 유명한 병원이라고 해서 찾아갔습니다. 예약을 하고 가서 대기 시간은 길지 않았습니다. 직원분들은 친절하시고 원장님도 친절하셨습니다. 진료실 내부는 깨끗하고 깔끔한 이미지인데, 치료받는 곳에 일회용 치마가 있어서 위생적인 부분도 더욱 신뢰가 갔습니다. 진료는 마취 크림 바르고 정말 한쪽 눈에 사마귀가 떼어서 냉동치료를 했는데 정말 금방 완치가 되었습니다. 다만 치료 후에 눈에 염증이 생겨서 안연고까지 받\n",
            "2nd\n",
            " 를 받았습니다. 마취를 하고 치료를 받는데 아픈건 어쩔수 없었고 시간이 지나면 통증을 완화시켜줘야 한다고 하더군요. 그냥 아픈것만 잠재울려고 하는 기분이었습니다. 그래도 치료가 끝나니 시린 증상은 나았습니다. 병원은 무척 깔끔하고 직원들도 친절합니다. 가격대는 좀 있는 편이지만 시간대를 잘 선택하면 좋은것 같습니다. 가격대는 좀 있는 편이지만 시간대를 잘 선택하면 좋은것 같습니다. 가격대는 좀 있는 편이지\n",
            "3rd\n",
            " 를 했습니다. 그래서 마취할때 말고는 아무것도 못하고 있었는데 치료시에는 아프지않게 잘 해주셨어요. 그리고 치료결과도 매우만족합니다. 이제는 치료를 다 끝내야하는데 치료에 대한 만족도가 높았던것같아요. 치료에 대한 만족도는 정말 높았던것같아요. 그리고 치료시에 치료사분들도 모두 친절하십니다. 다음에도 또 방문할 의사가 있습니다. 감사합니다. 아쉬운점은 대기시간이 조금 오래걸렸습니다. 그래도 만족한 치\n",
            "4th\n",
            " 를 받았었는데 진료실도 너무 깨끗하고 직원분들도 너무 친절하고 좋았습니다 그리고 의사선생님도 친절하고 좋았습니다 진료비도 비싸지않고 적당해요 가격도 합리적입니다 진료받으러 가실분들 추천드립니다 다만 원장선생님이 진료를 조금 빨리빨리 하는 부분이 있어서 진료시간이 조금 길어질 수 있습니다 진료실 내부는 깨끗하고 좋았습니다 가격도 적당하고 좋았습니다 앞으로 치과는 여기로 가려고 합니다 추천드립니\n",
            "5th\n",
            " 를 해야했습니다. 결국 입원실에서 수술을 받기로 결정했습니다. 수술은 잘 되었고 지금은 아무런 문제없이 잘 살고있습니다. 지인에게 소개할 수 있게 적정한 병원이라고 생각합니다. 병원 내부는 상당히 깔끔하고 좋습니다. 간호사분들도 친절하시고 의사선생님도 친절하십니다. 가격도 다른 병원에 비해서 저렴한 편입니다. 위치도 강남역과 이어져있어 대중교통으로도 오기 좋습니다. 다만 예약이 되지않는다는점이 좀 불편합니다.\n"
          ],
          "name": "stdout"
        }
      ]
    },
    {
      "cell_type": "code",
      "metadata": {
        "colab": {
          "base_uri": "https://localhost:8080/"
        },
        "id": "gj104CF84WjO",
        "outputId": "b6f733cd-b0eb-49a0-bfb6-c308eb333749"
      },
      "source": [
        "run = openai.Completion.create(\n",
        "  model=\"babbage:ft-dajeongdagam-2021-07-27-07-01-42\",      # 모델명 입력\n",
        "  prompt=\"신경치료\",     # 원하는 텍스트 입력\n",
        "  temperature=0.5,      # 디폴트 1. 0에 가까울수록 정제된 문장, 높아질수록 창의적 문장\n",
        "  max_tokens=500,       # 최대 2048토큰까지\n",
        "  n = 5                 # 결과물 개수 (토큰 사용량과 연관이 큼)\n",
        ")\n",
        "\n",
        "output = [run.choices[0]['text'], run.choices[1]['text'], run.choices[2]['text'], run.choices[3]['text'], run.choices[4]['text']]\n",
        "print('1st\\n', output[0])\n",
        "print('2nd\\n', output[1])\n",
        "print('3rd\\n', output[2])\n",
        "print('4th\\n', output[3])\n",
        "print('5th\\n', output[4])"
      ],
      "execution_count": null,
      "outputs": [
        {
          "output_type": "stream",
          "text": [
            "1st\n",
            " 하고 종아리보톡스를 맞았는데 다른 곳보다 저렴해서 좋았어요. 의사선생님이 잘 설명해주시고 친절하셔서 좋았습니다. 사람이 좀 많아서 대기시간이 있지만 오래 기다리지는 않았어요. 진료실이나 대기실 모두 깨끗하고 쾌적했습니다. 다른 직원분들도 친절하셨고 병원 청결하고 좋았어요. 전반적으로 다 만족스러웠습니다. 앞으로 안과는 여기로 다니려고요. 감사합니다. :) 의사선생님 친절하시고 무엇보다 가격이 합리적이여서\n",
            "2nd\n",
            " 를 원해서 갔어요 몇년동안 치료를 다른 치과에서 받아서 신경치료 보시고는 다른 치료는 필요없고 안구건조증 심하다고 하셨어요 다른 치과에서는 안구건조증이라고 인공눈물 처방해주고 끝이었어요 치료는 안아프게 잘되서 만족합니다 추천해요! 그리고 직원분들도 너무 친절하고 좋았습니다! 앞으로도 정기적으로 치과진료 받으러 가려고 합니다! 감사합니다! 의사쌤 감사합니다! 감사합니다! 감사합니다! 감사합니다! 감사합\n",
            "3rd\n",
            " 를 해보자고 하셨습니다. 치료는 바로 진행하지만 조금 많이 걱정되었습니다. 치위생사분은 친절하였으나 원장님은 설명이 부족하였습니다. 물론 급한것도 아니어서 치료는 받지못하였지만 아쉬웠습니다. 치료를 원하시는 분들은 재방문은 필수고 아주 좋을것 같습니다. 치료비도 많이 비싸지는 않습니다. 약국도 바로 맞은편입니다. 병원은 깨끗한 편이고 청결합니다. 치료를 미루거나 과잉진료를 하지 않는 점이 좋았습니다. 감사합니다.\n",
            "4th\n",
            "  받았는데 의사선생님 친절하시고 설명도 잘해주십니다. 아무래도 지방흡입이라 그런지 아직 지방흡입을 다 할수는 없지만 만족스러워요. 사람이 많아서 대기시간이 오래걸리긴 하지만 시간 잘 맞춰가면 괜찮아요. 병원 내부는 약간 올드해보이는 느낌이 있지만 깔끔하게 잘 정돈되어 있습니다. 직원분들도 친절하시고 시설도 괜찮았습니다. 다만 사람이 많아서 예약을 하고 가도 오래기다려야해서 좀 아쉬웠습니다. 저는 바르는\n",
            "5th\n",
            " 하고 약받았습니다. 이후 치아 관리에 대해서도 상세히 설명해주셨습니다. 병원은 청결하고 직원들도 친절합니다. 아직 치료가 다 끝난건 아니지만 정기적으로 검진받으러 다니려고 합니다. 다른 치료는 안 해봐서 모르겠네요. 이곳만 다니려면 재방문 의사 있습니다. 진료비는 매우 저렴합니다. 사람은 조금 많습니다. 이 동네에서는 사람 많은 거 같더라구요. 대기시간은 조금 있습니다. 진료실은 깨끗합니다. 가격도 저렴합니다. 다만 아\n"
          ],
          "name": "stdout"
        }
      ]
    }
  ]
}